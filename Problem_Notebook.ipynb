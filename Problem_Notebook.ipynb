{
  "nbformat": 4,
  "nbformat_minor": 0,
  "metadata": {
    "colab": {
      "provenance": [],
      "authorship_tag": "ABX9TyP8GIO6/YwARpOvS9AOsoEO",
      "include_colab_link": true
    },
    "kernelspec": {
      "name": "python3",
      "display_name": "Python 3"
    },
    "language_info": {
      "name": "python"
    }
  },
  "cells": [
    {
      "cell_type": "markdown",
      "metadata": {
        "id": "view-in-github",
        "colab_type": "text"
      },
      "source": [
        "<a href=\"https://colab.research.google.com/github/shivam887423/EDA-1-Hotel-Booking-Analysis/blob/main/Problem_Notebook.ipynb\" target=\"_parent\"><img src=\"https://colab.research.google.com/assets/colab-badge.svg\" alt=\"Open In Colab\"/></a>"
      ]
    },
    {
      "cell_type": "markdown",
      "source": [
        "# 1.Which Year has the maximum numbers of bookings?\n",
        "\n",
        "#2.Months with the most numbers of bookings?\n",
        "\n",
        "#3.Which Country Has the maximum numbers of bookings?\n",
        "\n",
        "#4.Trends of market segments in week nights in city or hotel resort?\n",
        "\n",
        "#5.Which rooms are more prefered by the customer?\n",
        "\n",
        "#6.Months with most numbers of cancellation?\n",
        "\n",
        "#7.Which channel has maximum adr value?\n",
        "\n",
        "#8.Find the relation between weekend of arrival_date_month with the adr?\n",
        "\n",
        "#9.Find the heatmap To see the co relation of columns?\n"
      ],
      "metadata": {
        "id": "Bz-iB-JoDnwO"
      }
    }
  ]
}