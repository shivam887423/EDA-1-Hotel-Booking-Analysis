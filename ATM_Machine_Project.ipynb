{
  "nbformat": 4,
  "nbformat_minor": 0,
  "metadata": {
    "colab": {
      "provenance": [],
      "authorship_tag": "ABX9TyNsGDhiI7FSRQK+3V45fMDn",
      "include_colab_link": true
    },
    "kernelspec": {
      "name": "python3",
      "display_name": "Python 3"
    },
    "language_info": {
      "name": "python"
    }
  },
  "cells": [
    {
      "cell_type": "markdown",
      "metadata": {
        "id": "view-in-github",
        "colab_type": "text"
      },
      "source": [
        "<a href=\"https://colab.research.google.com/github/shivam887423/EDA-1-Hotel-Booking-Analysis/blob/main/ATM_Machine_Project.ipynb\" target=\"_parent\"><img src=\"https://colab.research.google.com/assets/colab-badge.svg\" alt=\"Open In Colab\"/></a>"
      ]
    },
    {
      "cell_type": "markdown",
      "source": [
        "# Atm Machine Project\n",
        "#1 for balance\n",
        "#2 for withdraw amount\n",
        "#3 for deopsite\n",
        "#4 for exit\n",
        "\n"
      ],
      "metadata": {
        "id": "EVESkBXuVwjL"
      }
    },
    {
      "cell_type": "code",
      "source": [
        "# we have define certain amount fixed in atm machines.\n",
        "limit= 50000\n",
        "balance= 10000"
      ],
      "metadata": {
        "id": "Yv8WFptgZtc7"
      },
      "execution_count": 10,
      "outputs": []
    },
    {
      "cell_type": "markdown",
      "source": [
        "# Condition 1"
      ],
      "metadata": {
        "id": "1AgMi6nNb0YH"
      }
    },
    {
      "cell_type": "code",
      "source": [
        "#When we insert the atm card in machine \n",
        "# when user want to know the balance of his acount\n",
        "print(\"welcome to the Atm machine\")                                        # output given by machine to user.\n",
        "user_input=int(input(\"please choose the option\"))\n",
        "if user_input == 1:                                          # output given by user to machine.\n",
        "    print(\"your balance is\",balance)\n",
        "elif user_input== 2:                                                               # output given by user to machine.\n",
        "    withdraw_amount=int(input(\"please enter withdraw amount\"))\n",
        "    if withdraw_amount>balance:                                              # condition by machine \n",
        "        print(\"exceeds deposite limit\")                                                           # output given by machine to user.\n",
        "    else:\n",
        "        print(\"transaction successful\")\n",
        "        balance = balance-withdraw_amount                    # updation by machine\n",
        "        print(\"your updated balance is\",balance)\n",
        "elif user_input== 3:                                                      #output given by user to machine.\n",
        "    deposite= int(input(\"enter the deposite amount\"))                                   # output given by machine to user.\n",
        "    balance = balance + deposite\n",
        "    print(\"your updated balance is\",balance)\n",
        "elif user_input== 4:\n",
        "        print(\"exit\")                                             # output given by machine to user.\n"
      ],
      "metadata": {
        "colab": {
          "base_uri": "https://localhost:8080/"
        },
        "id": "HRuiaqGHYSKt",
        "outputId": "34fa036e-eda5-41d9-d5b6-71c648bd1755"
      },
      "execution_count": 12,
      "outputs": [
        {
          "output_type": "stream",
          "name": "stdout",
          "text": [
            "welcome to the Atm machine\n",
            "please choose the option1\n",
            "your balance is 10000\n"
          ]
        }
      ]
    },
    {
      "cell_type": "markdown",
      "source": [
        "#Condition 2"
      ],
      "metadata": {
        "id": "oqyonqtRb4zJ"
      }
    },
    {
      "cell_type": "code",
      "source": [
        "#When user want to withdraw money from machine!\n",
        "print(\"welcome to the Atm machine\")                                        # output given by machine to user.\n",
        "user_input=int(input(\"please choose the option\"))\n",
        "if user_input == 1:                                          # output given by user to machine.\n",
        "    print(\"your balance is\",balance)\n",
        "elif user_input== 2:                                                               # output given by user to machine.\n",
        "    withdraw_amount=int(input(\"please enter withdraw amount\"))\n",
        "    if withdraw_amount>balance:                                              # condition by machine \n",
        "        print(\"exceeds deposite limit\")                                                           # output given by machine to user.\n",
        "    else:\n",
        "        print(\"transaction successful\")\n",
        "        balance = balance-withdraw_amount                    # updation by machine\n",
        "        print(\"your updated balance is\",balance)\n",
        "elif user_input== 3:                                                      #output given by user to machine.\n",
        "    deposite= int(input(\"enter the deposite amount\"))                                   # output given by machine to user.\n",
        "    balance = balance + deposite\n",
        "    print(\"your updated balance is\",balance)\n",
        "elif user_input== 4:\n",
        "        print(\"exit\")                                             # output given by machine to user.\n"
      ],
      "metadata": {
        "id": "v_638gRybhx3"
      },
      "execution_count": null,
      "outputs": []
    },
    {
      "cell_type": "markdown",
      "source": [
        "#Condition 3"
      ],
      "metadata": {
        "id": "GCe39tCjcB_R"
      }
    },
    {
      "cell_type": "code",
      "source": [
        "#When user want to deposit his money!\n",
        "print(\"welcome to the Atm machine\")                                        # output given by machine to user.\n",
        "user_input=int(input(\"please choose the option\"))\n",
        "if user_input == 1:                                          # output given by user to machine.\n",
        "    print(\"your balance is\",balance)\n",
        "elif user_input== 2:                                                               # output given by user to machine.\n",
        "    withdraw_amount=int(input(\"please enter withdraw amount\"))\n",
        "    if withdraw_amount>balance:                                              # condition by machine \n",
        "        print(\"exceeds deposite limit\")                                                           # output given by machine to user.\n",
        "    else:\n",
        "        print(\"transaction successful\")\n",
        "        balance = balance-withdraw_amount                    # updation by machine\n",
        "        print(\"your updated balance is\",balance)\n",
        "elif user_input== 3:                                                      #output given by user to machine.\n",
        "    deposite= int(input(\"enter the deposite amount\"))                                   # output given by machine to user.\n",
        "    balance = balance + deposite\n",
        "    print(\"your updated balance is\",balance)\n",
        "elif user_input== 4:\n",
        "        print(\"exit\")                                             # output given by machine to user.\n"
      ],
      "metadata": {
        "id": "fi89gZRLbt0t"
      },
      "execution_count": null,
      "outputs": []
    },
    {
      "cell_type": "markdown",
      "source": [
        "#Condition 4"
      ],
      "metadata": {
        "id": "bt3MHBXDcIfT"
      }
    },
    {
      "cell_type": "code",
      "source": [
        "#When input given given by user more than 3!\n",
        "print(\"welcome to the Atm machine\")                                        # output given by machine to user.\n",
        "user_input=int(input(\"please choose the option\"))\n",
        "if user_input == 1:                                          # output given by user to machine.\n",
        "    print(\"your balance is\",balance)\n",
        "elif user_input== 2:                                                               # output given by user to machine.\n",
        "    withdraw_amount=int(input(\"please enter withdraw amount\"))\n",
        "    if withdraw_amount>balance:                                              # condition by machine \n",
        "        print(\"exceeds deposite limit\")                                                           # output given by machine to user.\n",
        "    else:\n",
        "        print(\"transaction successful\")\n",
        "        balance = balance-withdraw_amount                    # updation by machine\n",
        "        print(\"your updated balance is\",balance)\n",
        "elif user_input== 3:                                                      #output given by user to machine.\n",
        "    deposite= int(input(\"enter the deposite amount\"))                                   # output given by machine to user.\n",
        "    balance = balance + deposite\n",
        "    print(\"your updated balance is\",balance)\n",
        "elif user_input== 4:\n",
        "        print(\"exit\")                                             # output given by machine to user.\n"
      ],
      "metadata": {
        "id": "JcBaoxPbbwSn"
      },
      "execution_count": null,
      "outputs": []
    }
  ]
}